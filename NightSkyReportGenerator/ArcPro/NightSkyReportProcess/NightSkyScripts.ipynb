{
 "cells": [
  {
   "cell_type": "markdown",
   "metadata": {},
   "source": [
    "# NSNSD Night Sky Report Generator "
   ]
  },
  {
   "cell_type": "code",
   "execution_count": 1,
   "metadata": {},
   "outputs": [],
   "source": [
    "# Work flow consists of 1.) arcpy steps herein to generate report spatial layers and statistics; 2.) manual map generation\n",
    "# from spatial layers created in step 1 using the NightSkyReportProcess.aprx map and templates; and 3.) NPS formatted \n",
    "# report automation using RMarkdown from NPS night sky metrics data, spatial statistics, spatial layers and mapping generated \n",
    "# in step 1 and 2\n",
    "\n",
    "# IMPORTANT: Place NightSkyReportGenerator_V1 in your park specific project folder (may need to extract from zip)"
   ]
  },
  {
   "cell_type": "code",
   "execution_count": 2,
   "metadata": {},
   "outputs": [],
   "source": [
    "import sys,os\n",
    "import arcpy\n",
    "import glob, os, shutil\n",
    "from arcpy.sa import *"
   ]
  },
  {
   "cell_type": "code",
   "execution_count": 3,
   "metadata": {},
   "outputs": [
    {
     "name": "stdout",
     "output_type": "stream",
     "text": [
      "C:\\Users\\Emeyer\\Documents\\NightSkyMetricsReports\\NightSkyReportGenerator\n"
     ]
    }
   ],
   "source": [
    "### START USER INPUT###\n",
    "# Set report park variables\n",
    "# Set Unit code\n",
    "#change four letter acronym unit code for park \n",
    "unitcode = \"UNIT_CODE = 'PORE'\"\n",
    "park = \"PORE\"\n",
    "#Set buffer distance for parks that have monitoring sites on or near the boundary\n",
    "buffnum = \"10\"\n",
    "#Distance search from monitoring sites to cities (census data)\n",
    "citydist = \"300\"\n",
    "units =  \" Kilometers\"\n",
    "\n",
    "# Set location where the night sky report generator folder is:\n",
    "# This is the only path to be edited\n",
    "repgen = r\"C:\\Users\\Emeyer\\Documents\\NightSkyMetricsReports\\NightSkyReportGenerator\"\n",
    "print(repgen)\n",
    "\n",
    "\n",
    "\n",
    "### END USER INPUT###"
   ]
  },
  {
   "cell_type": "code",
   "execution_count": 4,
   "metadata": {},
   "outputs": [],
   "source": [
    "# Set paths and store names\n",
    "\n",
    "# Set workspace to project gdb\n",
    "# This gdb is located in the same folder of the template maps and layers\n",
    "workspace = repgen + r\"\\ArcPro\\NightSkyReportProcess\\NightSkyReportProcess.gdb\"\n",
    "\n",
    "# Location of layer templates\n",
    "layerworkspace = repgen + r\"\\ArcPro\\NightSkyReportProcess\\\\\"\n",
    "\n",
    "# This path is where the R.proj and R Markdown file are stored\n",
    "# report figure locations\n",
    "figures = repgen + r\"\\NightSkyReporting\\Figures\\\\\"\n",
    "# this is where excel output will go\n",
    "parks = repgen + r\"\\NightSkyReporting\\Parks\\\\\"\n",
    "# This is where the study sites xy data is\n",
    "studyxl = repgen +\"\\\\NightSkyReporting\\\\Reference\\\\NPMapsQuery.xlsx\\\\Sheet1$\"\n",
    "\n",
    "\n",
    "# Create folders for reporting park to place analysis and maps\n",
    "arcpy.CreateFolder_management(figures, park)\n",
    "arcpy.CreateFolder_management(parks, park)\n",
    "\n",
    "# Set ouput directory to \"\\NightSkyReportGenerator_V1\\NightSkyReporting\" on local drive or reporting park directory\n",
    "output = repgen + r\"\\NightSkyReporting\\Parks\\\\\" + park\n",
    "\n",
    "#File path for reporting park feature class stored created within this process and stored to project .gdb\n",
    "ReportPark = workspace + \"\\ReportPark_\"+ park\n",
    "\n",
    "#File path for sALR raster stored in the project .gdb\n",
    "sALR = arcpy.Raster(workspace +\"\\\\sALR\")\n",
    "\n",
    "#File path to store sALR zonal stastics table summarized within the reporting park\n",
    "sALRoutput = workspace + \"\\\\sALRoutput_\"+ park\n",
    "\n",
    "#File path to export sALR zonal stastics table summarized within the reporting park\n",
    "sALRoutput_xls = output + \"\\\\sALRoutput_\" + park +\".xls\"\n",
    "\n",
    "#Stored for naming monitoring sites feature class selected within the reporting park\n",
    "StudySites = workspace + \"\\\\StudySites\"\n",
    "\n",
    "#Stored for naming a buffered boundary around the park to capture study sites on or near the park boundary\n",
    "buffer = buffnum + units\n",
    "ReportPark_buffer = workspace + \"\\\\ReportPark_\"+ park + \"_\" + buffnum + \"_km\"\n",
    "\n",
    "#Stored for naming a feature class of monitoring sites within the reporting park buffer\n",
    "ReportPark_StudySites = workspace + \"\\\\ReportPark_StudySites_\" + park\n",
    "\n",
    "# Stored for naming output of distance and angle (Walkers Value calc) from monitoring sites to cities/census data\n",
    "ReportPark_GenerateNearTable = workspace + \"\\\\ReportPark_GenerateNearTable_\"+ park\n",
    "\n",
    "# Census data stored in .gdb\n",
    "PopCities2020 = \"PopCities2020\"\n",
    "searchradius = citydist + units\n",
    "\n",
    "# Stored file path for exporting distance, angle, sity, and study site table\n",
    "ReportPark_NearTable_xlsx = output + \"\\\\ReportPark_NearTable_\" + park + \".xlsx\"\n",
    "\n",
    "# Set layer that output symbology will be based on\n",
    "symbologyLayerPark = layerworkspace + \"ReportPark.lyrx\"\n",
    "symbologyLayerSites = layerworkspace + \"ReportPark_StudySites.lyrx\""
   ]
  },
  {
   "cell_type": "code",
   "execution_count": 5,
   "metadata": {},
   "outputs": [
    {
     "name": "stdout",
     "output_type": "stream",
     "text": [
      "633\n"
     ]
    }
   ],
   "source": [
    "###Create Study Sites feature class that originattes from the NPMapsQuery.xlsx file\n",
    "###The excel file is updated from the geojson file via R by the project manager\n",
    "\n",
    "arcpy.env.overwriteOutput = True\n",
    "arcpy.management.XYTableToPoint(studyxl,\n",
    "                                StudySites,\n",
    "                                x_field=\"longitude\", y_field=\"latitude\")\n",
    "\n",
    "\n",
    "\n",
    "print(arcpy.management.GetCount(StudySites))\n"
   ]
  },
  {
   "cell_type": "code",
   "execution_count": 6,
   "metadata": {},
   "outputs": [],
   "source": [
    "## Copy common to all figures to new park figure dir\n",
    "\n",
    "in_data = repgen + r\"\\NightSkyReporting\\Figures\\Common\"\n",
    "out_data = figures + park\n",
    "# Execute Copy of all png files\n",
    "files = glob.iglob(os.path.join(in_data, \"*.PNG\"))\n",
    "for file in files:\n",
    "    if os.path.isfile(file):\n",
    "        shutil.copy2(file, out_data)"
   ]
  },
  {
   "cell_type": "code",
   "execution_count": 7,
   "metadata": {},
   "outputs": [],
   "source": [
    "# Check out any necessary licenses.\n",
    "arcpy.CheckOutExtension(\"3D\")\n",
    "arcpy.CheckOutExtension(\"spatial\")\n",
    "arcpy.CheckOutExtension(\"ImageExt\")\n",
    "arcpy.CheckOutExtension(\"ImageAnalyst\")\n",
    "\n",
    "arcpy.ImportToolbox(r\"c:\\program files\\arcgis\\pro\\Resources\\ArcToolbox\\toolboxes\\Conversion Tools.tbx\")\n",
    "\n",
    "# To allow overwriting outputs change overwriteOutput option to True.\n",
    "arcpy.env.overwriteOutput = True"
   ]
  },
  {
   "cell_type": "code",
   "execution_count": 8,
   "metadata": {},
   "outputs": [
    {
     "data": {
      "text/html": [
       "<div class='gpresult'><h2>Messages</h2><div id='messages'>Start Time: Monday, June 23, 2025 12:31:15 PM<br>Succeeded at Monday, June 23, 2025 12:31:16 PM (Elapsed Time: 0.77 seconds)<br></div><div id = 'default' /></div></div>"
      ],
      "text/plain": [
       "<Result 'C:\\\\Users\\\\Emeyer\\\\Documents\\\\NightSkyMetricsReports\\\\NightSkyReportGenerator\\\\ArcPro\\\\NightSkyReportProcess\\\\NightSkyReportProcess.gdb\\\\ReportPark_PORE'>"
      ]
     },
     "execution_count": 8,
     "metadata": {},
     "output_type": "execute_result"
    }
   ],
   "source": [
    "# Step 1: Select the park of interest and export to a feature class. Selects park stored from previous steps from the\n",
    "# Administrative Boundaries (all NPS units) feature class in the project .gdb\n",
    "\n",
    "# Execute FeatureClassToFeatureClass\n",
    "arcpy.FeatureClassToFeatureClass_conversion(\"Administrative_Boundaries_of_National_Park_System_Units\", workspace, \n",
    "                                            \"ReportPark_\"+park, unitcode)    \n",
    "\n"
   ]
  },
  {
   "cell_type": "code",
   "execution_count": 9,
   "metadata": {},
   "outputs": [
    {
     "data": {
      "text/html": [
       "<div class='gpresult'><h2>Messages</h2><div id='messages'>Start Time: Monday, June 23, 2025 12:31:17 PM<br>Succeeded at Monday, June 23, 2025 12:31:18 PM (Elapsed Time: 1.16 seconds)<br></div><div id = 'default' /></div></div>"
      ],
      "text/plain": [
       "<Result 'C:\\\\Users\\\\Emeyer\\\\Documents\\\\NightSkyMetricsReports\\\\NightSkyReportGenerator\\\\NightSkyReporting\\\\Parks\\\\\\\\PORE\\\\sALRoutput_PORE.xls'>"
      ]
     },
     "execution_count": 9,
     "metadata": {},
     "output_type": "execute_result"
    }
   ],
   "source": [
    "# Step 2: Extract sALR model using the reporting park feature class. Complete zonal statistics summarizing ALR model within\n",
    "# the reporting park. Save table to project .gdb and export to excel in the output directory.\n",
    "\n",
    "# Process: Zonal Statistics as Table (Zonal Statistics as Table)\n",
    "\n",
    "arcpy.sa.ZonalStatisticsAsTable(ReportPark, \"UNIT_CODE\", sALR, sALRoutput, \n",
    "                                \"DATA\", \"ALL\", \"CURRENT_SLICE\", [90, 10], \"AUTO_DETECT\", \"ARITHMETIC\", 360, \"\")\n",
    "   \n",
    "\n",
    "# Process: Table To Excel (Table To Excel)\n",
    "\n",
    "arcpy.conversion.TableToExcel(Input_Table=[sALRoutput], Output_Excel_File=sALRoutput_xls)\n",
    "\n",
    "\n"
   ]
  },
  {
   "cell_type": "code",
   "execution_count": 10,
   "metadata": {},
   "outputs": [
    {
     "data": {
      "text/html": [
       "<div class='gpresult'><h2>Messages</h2><div id='messages'>Start Time: Monday, June 23, 2025 12:31:18 PM<br>Succeeded at Monday, June 23, 2025 12:31:20 PM (Elapsed Time: 1.67 seconds)<br></div><div id = 'default' /></div></div>"
      ],
      "text/plain": [
       "<Result 'C:\\\\Users\\\\Emeyer\\\\Documents\\\\NightSkyMetricsReports\\\\NightSkyReportGenerator\\\\ArcPro\\\\NightSkyReportProcess\\\\NightSkyReportProcess.gdb\\\\ReportPark_PORE_10_km'>"
      ]
     },
     "execution_count": 10,
     "metadata": {},
     "output_type": "execute_result"
    }
   ],
   "source": [
    "# Step 3: Create a buffer around the reporting park and save to project .gdb\n",
    "\n",
    "# Process: Buffer (Buffer) (analysis)\n",
    "arcpy.analysis.Buffer(in_features=ReportPark, out_feature_class=ReportPark_buffer, \n",
    "                      buffer_distance_or_field=buffer)\n"
   ]
  },
  {
   "cell_type": "code",
   "execution_count": 11,
   "metadata": {},
   "outputs": [
    {
     "data": {
      "text/html": [
       "<div class='gpresult'><h2>Messages</h2><div id='messages'>Start Time: Monday, June 23, 2025 12:31:20 PM<br>Succeeded at Monday, June 23, 2025 12:31:21 PM (Elapsed Time: 0.82 seconds)<br></div><div id = 'default' /></div></div>"
      ],
      "text/plain": [
       "<Result 'C:\\\\Users\\\\Emeyer\\\\Documents\\\\NightSkyMetricsReports\\\\NightSkyReportGenerator\\\\ArcPro\\\\NightSkyReportProcess\\\\NightSkyReportProcess.gdb\\\\ReportPark_StudySites_PORE'>"
      ]
     },
     "execution_count": 11,
     "metadata": {},
     "output_type": "execute_result"
    }
   ],
   "source": [
    "# Step 4: Select study sites within the buffered reporting park feature class\n",
    "\n",
    "# Process: Select Layer By Location (Select Layer By Location) (management)\n",
    "tempselect = arcpy.management.SelectLayerByLocation(in_layer=StudySites, overlap_type=\"WITHIN\", select_features=ReportPark_buffer)\n",
    "\n",
    "# Process: Export Features (Export Features) (conversion)\n",
    "\n",
    "arcpy.conversion.ExportFeatures(in_features=tempselect, out_features=ReportPark_StudySites)\n",
    "\n"
   ]
  },
  {
   "cell_type": "code",
   "execution_count": 12,
   "metadata": {},
   "outputs": [
    {
     "data": {
      "text/html": [
       "<div class='gpresult'><h2>Messages</h2><div id='messages'>Start Time: Monday, June 23, 2025 12:31:21 PM<br>Determining data processing extents...<br>Building a neighborhood index from the Near Features...<br>Generating Near Table...<br>Found 1594 feature(s) within 300000.000000<br>Succeeded at Monday, June 23, 2025 12:31:22 PM (Elapsed Time: 0.58 seconds)<br></div><div id = 'default' /></div></div>"
      ],
      "text/plain": [
       "<Result 'C:\\\\Users\\\\Emeyer\\\\Documents\\\\NightSkyMetricsReports\\\\NightSkyReportGenerator\\\\ArcPro\\\\NightSkyReportProcess\\\\NightSkyReportProcess.gdb\\\\ReportPark_GenerateNearTable_PORE'>"
      ]
     },
     "execution_count": 12,
     "metadata": {},
     "output_type": "execute_result"
    }
   ],
   "source": [
    "# Step 5: Generate distance and angle from monitoring sites to cities within a defined distance. Export output as table to project .gdb\n",
    "\n",
    "\n",
    "# Process: Select Layer By Attribute (Select Layer By Attribute) (management)\n",
    "arcpy.management.SelectLayerByAttribute(in_layer_or_view=ReportPark_StudySites, \n",
    "                                                                             selection_type=\"CLEAR_SELECTION\")\n",
    "\n",
    "# Process: Generate Near Table (Generate Near Table) (analysis)\n",
    "\n",
    "arcpy.analysis.GenerateNearTable(in_features=ReportPark_StudySites, near_features=[PopCities2020], \n",
    "                                 out_table=ReportPark_GenerateNearTable, \n",
    "                                 search_radius=searchradius, location=\"LOCATION\", \n",
    "                                 angle=\"ANGLE\", closest=\"ALL\", closest_count=10000, method=\"GEODESIC\", distance_unit=\"Kilometers\")\n",
    "\n"
   ]
  },
  {
   "cell_type": "code",
   "execution_count": 13,
   "metadata": {
    "scrolled": true
   },
   "outputs": [
    {
     "data": {
      "text/plain": [
       "'C:\\\\Users\\\\Emeyer\\\\Documents\\\\NightSkyMetricsReports\\\\NightSkyReportGenerator\\\\ArcPro\\\\NightSkyReportProcess\\\\NightSkyReportProcess.gdb\\\\ReportPark_GenerateNearTable_PORE'"
      ]
     },
     "execution_count": 13,
     "metadata": {},
     "output_type": "execute_result"
    }
   ],
   "source": [
    "# Step 6: Join near table created in step 5 to census data to add city name to the table in addition to city id. Previous step\n",
    "# drops the city name so this step adds the city name back to the table, overwriting the table in Step 5 with the new data\n",
    "# Process: Join Field (Join Field) (management)\n",
    "arcpy.management.JoinField(in_data=ReportPark_GenerateNearTable, \n",
    "                                                          in_field=\"NEAR_FID\", join_table=PopCities2020, \n",
    "                                                          join_field=\"OBJECTID\", \n",
    "                                                          fields=[\"PLACENS\", \"GEOID\", \"CLASSFP\", \"FUNCSTAT\", \"ALAND\", \"AWATER\", \"INTPTLAT\", \"INTPTLON\", \"NAME\", \"P0010001\", \"H0010001\", \"H0030002\", \"P001_calc_\", \"H0010001\", \"H0030002\", \"P001_calc_\", \"H0010001\", \"H0030002\", \"P001_calc_\", \"P0020002\", \"P0020002\", \"P0020003\", \"P0020004\", \"P002_calc_\", \"P002_calc1\"])[0]\n",
    "\n"
   ]
  },
  {
   "cell_type": "code",
   "execution_count": 14,
   "metadata": {},
   "outputs": [
    {
     "data": {
      "text/html": [
       "<div class='gpresult'><h2>Messages</h2><div id='messages'>Start Time: Monday, June 23, 2025 12:31:24 PM<br>Succeeded at Monday, June 23, 2025 12:31:25 PM (Elapsed Time: 1.47 seconds)<br></div><div id = 'default' /></div></div>"
      ],
      "text/plain": [
       "<Result 'C:\\\\Users\\\\Emeyer\\\\Documents\\\\NightSkyMetricsReports\\\\NightSkyReportGenerator\\\\NightSkyReporting\\\\Parks\\\\\\\\PORE\\\\ReportPark_NearTable_PORE.xlsx'>"
      ]
     },
     "execution_count": 14,
     "metadata": {},
     "output_type": "execute_result"
    }
   ],
   "source": [
    "# Step 7: Joing table from Step 6 to the report park study site feature class and export in excel for analysis in R. \n",
    "\n",
    "# Process: Join Field (Join Field) (management)\n",
    "temptable=arcpy.management.JoinField(in_data=ReportPark_GenerateNearTable,\n",
    "                           in_field=\"IN_FID\", join_table=ReportPark_StudySites, \n",
    "                           join_field=\"OBJECTID\", fields=[\"SITE_NAME\", \"DNIGHT\", \"DSET\", \"NPS_UNIT\", \"MID_DATE_LMT\"])[0]\n",
    "\n",
    "# Process: Table To Excel (Table To Excel) (conversion)\n",
    "\n",
    "arcpy.conversion.TableToExcel(Input_Table=temptable, \n",
    "                              Output_Excel_File=ReportPark_NearTable_xlsx, Use_field_alias_as_column_header=\"NAME\", \n",
    "                              Use_domain_and_subtype_description=\"CODE\")\n"
   ]
  },
  {
   "cell_type": "code",
   "execution_count": 15,
   "metadata": {},
   "outputs": [
    {
     "data": {
      "text/html": [
       "<div class='gpresult'><h2>Messages</h2><div id='messages'>Start Time: Monday, June 23, 2025 12:31:25 PM<br>Succeeded at Monday, June 23, 2025 12:31:26 PM (Elapsed Time: 0.06 seconds)<br></div><div id = 'default' /></div></div>"
      ],
      "text/plain": [
       "<Result 'C:\\\\Users\\\\Emeyer\\\\Documents\\\\NightSkyMetricsReports\\\\NightSkyReportGenerator\\\\ArcPro\\\\NightSkyReportProcess\\\\NightSkyReportProcess.gdb\\\\ReportPark_StudySites_PORE'>"
      ]
     },
     "execution_count": 15,
     "metadata": {},
     "output_type": "execute_result"
    }
   ],
   "source": [
    "# Step 8: Repair geometry of park polygon and site points\n",
    "\n",
    "arcpy.management.RepairGeometry(ReportPark)\n",
    "arcpy.management.RepairGeometry(ReportPark_StudySites)\n",
    "\n",
    "\n"
   ]
  },
  {
   "cell_type": "code",
   "execution_count": 16,
   "metadata": {},
   "outputs": [],
   "source": [
    "aprx = arcpy.mp.ArcGISProject(\"CURRENT\")\n",
    "mp = aprx.listMaps(\"ProcessingMap\")[0]\n",
    "\n",
    "# Remove all layers\n",
    "\n",
    "for rmlyr in mp.listLayers():\n",
    "    if rmlyr.name != \"\":\n",
    "        mp.removeLayer(rmlyr)\n",
    "    \n",
    "# Remove all tables\n",
    "for rmtbl in mp.listTables():\n",
    "    if rmtbl.name != \"\":\n",
    "        mp.removeTable(rmtbl)\n",
    "\n",
    "# Save the project\n",
    "aprx.save()"
   ]
  }
 ],
 "metadata": {
  "celltoolbar": "Tags",
  "kernelspec": {
   "display_name": "ArcGISPro",
   "language": "Python",
   "name": "python3"
  },
  "language_info": {
   "file_extension": ".py",
   "name": "python",
   "version": "3"
  }
 },
 "nbformat": 4,
 "nbformat_minor": 2
}
