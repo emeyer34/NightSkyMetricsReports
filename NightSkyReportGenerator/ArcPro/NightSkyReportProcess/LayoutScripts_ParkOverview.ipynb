{
 "cells": [
  {
   "cell_type": "markdown",
   "metadata": {},
   "source": [
    "# Park Overview Layout Script"
   ]
  },
  {
   "cell_type": "code",
   "execution_count": 17,
   "metadata": {},
   "outputs": [
    {
     "data": {
      "text/html": [
       "<div class='gpresult'><h2>Messages</h2><div id='messages'>Start Time: Friday, February 28, 2025 2:07:23 PM<br>Succeeded at Friday, February 28, 2025 2:07:25 PM (Elapsed Time: 1.73 seconds)<br></div><div id = 'default' /></div></div>"
      ],
      "text/plain": [
       "<Result 'ReportPark_PORE_Layer1'>"
      ]
     },
     "execution_count": 17,
     "metadata": {},
     "output_type": "execute_result"
    }
   ],
   "source": [
    "# Step 1: Add the reporting parks boundary to the ParkOverview layout and import symbology\n",
    "\n",
    "# Define your project. If running the notebook in pro, you can use \"Current\"\n",
    "aprx = arcpy.mp.ArcGISProject(\"CURRENT\")\n",
    "\n",
    "# Define your map.\n",
    "m = aprx.listMaps(\"StudySites\")[0] #Change \"Map\" to the name of your map\n",
    "\n",
    "# Construct the full path to the feature class\n",
    "feature_class_path_park = f\"{ReportPark}\"\n",
    "# Add the feature class to the map\n",
    "m.addDataFromPath(feature_class_path_park)\n",
    "\n",
    "# Apply the symbology from the symbology layerfile to the input layer\n",
    "arcpy.ApplySymbologyFromLayer_management (feature_class_path_park, symbologyLayerPark)"
   ]
  },
  {
   "cell_type": "code",
   "execution_count": 18,
   "metadata": {},
   "outputs": [
    {
     "data": {
      "text/html": [
       "<div class='gpresult'><h2>Messages</h2><div id='messages'>Start Time: Friday, February 28, 2025 2:07:25 PM<br>Succeeded at Friday, February 28, 2025 2:07:27 PM (Elapsed Time: 1.70 seconds)<br></div><div id = 'default' /></div></div>"
      ],
      "text/plain": [
       "<Result 'ReportPark_StudySites_PORE_L1'>"
      ]
     },
     "execution_count": 18,
     "metadata": {},
     "output_type": "execute_result"
    }
   ],
   "source": [
    "# Step 2: Add the reporting parks study sites to the ParkOverview layout and import symbology\n",
    "# Define your project. If running the notebook in pro, you can use \"Current\"\n",
    "aprx = arcpy.mp.ArcGISProject(\"CURRENT\")\n",
    "# Define your map.\n",
    "m = aprx.listMaps(\"StudySites\")[0] #Change \"Map\" to the name of your map\n",
    "# Construct the full path to the feature class\n",
    "feature_class_path_sites = f\"{ReportPark_StudySites}\"\n",
    "# Add the feature class to the map\n",
    "m.addDataFromPath(feature_class_path_sites)\n",
    "# Apply the symbology from the symbology layerfile to the input layer\n",
    "arcpy.ApplySymbologyFromLayer_management (feature_class_path_sites, symbologyLayerSites)"
   ]
  },
  {
   "cell_type": "code",
   "execution_count": 19,
   "metadata": {},
   "outputs": [],
   "source": [
    "# Step 3: zoom to the reporting park in the Study Sites layout\n",
    "\n",
    "aprx = arcpy.mp.ArcGISProject(\"CURRENT\")\n",
    "mv = aprx.activeView # mapview\n",
    "m = aprx.listMaps(\"StudySites\")[0] # map\n",
    "mv.camera.setExtent(mv.getLayerExtent(m.listLayers(\"ReportPark_\" + park)[0]))"
   ]
  },
  {
   "cell_type": "code",
   "execution_count": 20,
   "metadata": {},
   "outputs": [
    {
     "name": "stdout",
     "output_type": "stream",
     "text": [
      "ReportPark_StudySites_PORE_L1\n",
      "ReportPark_StudySites_PORE\n",
      "ReportPark_PORE_Layer1\n",
      "Layer renamed to: PORE\n",
      "ReportPark_PORE\n",
      "World Topographic Map\n",
      "World Hillshade\n",
      "ReportPark_StudySites_PORE_L1\n",
      "Layer renamed to: Study Sites\n",
      "ReportPark_StudySites_PORE\n",
      "PORE\n",
      "ReportPark_PORE\n",
      "World Topographic Map\n",
      "World Hillshade\n"
     ]
    }
   ],
   "source": [
    "# Step 4: rename layers in table of contents for reporting\n",
    "\n",
    "aprx = arcpy.mp.ArcGISProject(\"CURRENT\")\n",
    "# change layer name for parks in ParkOverview\n",
    "map = aprx.listMaps(\"StudySites\")[0]\n",
    "for lyr in map.listLayers():\n",
    "    print(lyr.name)\n",
    "    # Here this renames a layer that has a keyword \"Building\" in it to \"BuildingFootprint\" in TOC\n",
    "    if \"ReportPark_\" + park +\"_\" in lyr.name:\n",
    "        layerName = str(lyr.name)\n",
    "        lyr.name = lyr.name.replace(layerName, park)\n",
    "        print(f\"Layer renamed to: {lyr.name}\")\n",
    "        \n",
    "# change layer name for study sites in ParkOverview             \n",
    "map = aprx.listMaps(\"StudySites\")[0]\n",
    "for lyr in map.listLayers():\n",
    "    print(lyr.name)\n",
    "    # Here this renames a layer that has a keyword \"Building\" in it to \"BuildingFootprint\" in TOC\n",
    "    if \"ReportPark_StudySites_\" + park +\"_\" in lyr.name:\n",
    "        layerName = str(lyr.name)\n",
    "        lyr.name = lyr.name.replace(layerName, \"Study Sites\")\n",
    "        print(f\"Layer renamed to: {lyr.name}\")\n",
    " "
   ]
  },
  {
   "cell_type": "code",
   "execution_count": 21,
   "metadata": {},
   "outputs": [
    {
     "name": "stdout",
     "output_type": "stream",
     "text": [
      "Class 1\n"
     ]
    }
   ],
   "source": [
    "#Step 5: turn on labels for study sites\n",
    "\n",
    "aprx = arcpy.mp.ArcGISProject(\"CURRENT\")\n",
    "\n",
    "for m in aprx.listMaps(\"StudySites\"):\n",
    "    for lyr in m.listLayers(\"Study Sites\"):\n",
    "        lblClass = lyr.listLabelClasses()[0]\n",
    "        print(lblClass.name)\n",
    "        lblClass.expression = \"$feature.SITE_NAME\"\n",
    "        lyr.showLabels = True"
   ]
  },
  {
   "cell_type": "code",
   "execution_count": 22,
   "metadata": {},
   "outputs": [],
   "source": [
    "# Step 6: Remove layers not needed\n",
    "aprx = arcpy.mp.ArcGISProject(\"CURRENT\")\n",
    "\n",
    "# Get the map you want to work with\n",
    "map = aprx.listMaps(\"StudySites\")[0]\n",
    "\n",
    "# Remove a specific layer by name\n",
    "layer_to_remove = \"ReportPark_\"+ park\n",
    "for lyr in map.listLayers():\n",
    "    if lyr.name == layer_to_remove:\n",
    "        map.removeLayer(lyr)\n",
    "        break\n",
    "\n",
    "# Remove a specific layer by name\n",
    "layer_to_remove = \"ReportPark_StudySites_\"+ park\n",
    "for lyr in map.listLayers():\n",
    "    if lyr.name == layer_to_remove:\n",
    "        map.removeLayer(lyr)\n",
    "        break        \n",
    "        \n",
    "# Save the project\n",
    "aprx.save()"
   ]
  }
 ],
 "metadata": {
  "kernelspec": {
   "display_name": "ArcGISPro",
   "language": "Python",
   "name": "python3"
  },
  "language_info": {
   "file_extension": ".py",
   "name": "python",
   "version": "3"
  }
 },
 "nbformat": 4,
 "nbformat_minor": 2
}
