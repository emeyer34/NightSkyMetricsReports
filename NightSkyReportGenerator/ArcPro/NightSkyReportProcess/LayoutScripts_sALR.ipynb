{
 "cells": [
  {
   "cell_type": "markdown",
   "metadata": {},
   "source": [
    "#  Park ALR Model Layout Script"
   ]
  },
  {
   "cell_type": "code",
   "execution_count": 123,
   "metadata": {},
   "outputs": [
    {
     "data": {
      "text/html": [
       "<div class='gpresult'><h2>Messages</h2><div id='messages'>Start Time: Tuesday, December 10, 2024 11:04:53 AM<br>Succeeded at Tuesday, December 10, 2024 11:04:54 AM (Elapsed Time: 1.12 seconds)<br></div><div id = 'default' /></div></div>"
      ],
      "text/plain": [
       "<Result 'ReportPark_LAVO_Layer1'>"
      ]
     },
     "execution_count": 123,
     "metadata": {},
     "output_type": "execute_result"
    }
   ],
   "source": [
    "# Step 1: Add the reporting park to the sALR layout and import symbology\n",
    "\n",
    "# Define your project. If running the notebook in pro, you can use \"Current\"\n",
    "aprx = arcpy.mp.ArcGISProject(\"CURRENT\")\n",
    "# Define your map.\n",
    "m = aprx.listMaps(\"ALR_PARK\")[0] #Change \"Map\" to the name of your map\n",
    "\n",
    "# Construct the full path to the feature class\n",
    "feature_class_path_park = f\"{ReportPark}\"\n",
    "# Add the feature class to the map\n",
    "m.addDataFromPath(feature_class_path_park)\n",
    "\n",
    "# Apply the symbology from the symbology layerfile to the input layer\n",
    "arcpy.ApplySymbologyFromLayer_management (feature_class_path_park, symbologyLayerPark)"
   ]
  },
  {
   "cell_type": "code",
   "execution_count": 124,
   "metadata": {},
   "outputs": [],
   "source": [
    "# Step 2: zoom to the reporting park in the sALR layout\n",
    "aprx = arcpy.mp.ArcGISProject(\"CURRENT\")\n",
    "mv = aprx.activeView # mapview\n",
    "m = aprx.listMaps(\"ALR_PARK\")[0] # map\n",
    "mv.camera.setExtent(mv.getLayerExtent(m.listLayers(\"ReportPark_\" + park)[0]))"
   ]
  },
  {
   "cell_type": "code",
   "execution_count": 125,
   "metadata": {},
   "outputs": [
    {
     "name": "stdout",
     "output_type": "stream",
     "text": [
      "ReportPark_LAVO_Layer1\n",
      "Layer renamed to: LAVO\n",
      "ReportPark_LAVO\n",
      "All-Sky Average Sky Brightness Anthropogenic to Natural Ratio\n",
      "World Topographic Map\n",
      "World Hillshade\n"
     ]
    }
   ],
   "source": [
    "# Step 3: rename layers in table of contents for reporting\n",
    "\n",
    "aprx = arcpy.mp.ArcGISProject(\"CURRENT\")\n",
    "        \n",
    "# change layer name for parks in sALR\n",
    "map = aprx.listMaps(\"ALR_PARK\")[0]\n",
    "for lyr in map.listLayers():\n",
    "    print(lyr.name)\n",
    "    # Here this renames a layer that has a keyword \"Building\" in it to \"BuildingFootprint\" in TOC\n",
    "    if \"ReportPark_\" + park +\"_\" in lyr.name:\n",
    "        layerName = str(lyr.name)\n",
    "        lyr.name = lyr.name.replace(layerName, park)\n",
    "        print(f\"Layer renamed to: {lyr.name}\")"
   ]
  },
  {
   "cell_type": "code",
   "execution_count": 126,
   "metadata": {},
   "outputs": [],
   "source": [
    "# Step 4: Remove layers not needed\n",
    "aprx = arcpy.mp.ArcGISProject(\"CURRENT\")\n",
    "\n",
    "# Get the map you want to work with\n",
    "map = aprx.listMaps(\"ALR_PARK\")[0]\n",
    "\n",
    "# Remove a specific layer by name\n",
    "layer_to_remove = \"ReportPark_\"+ park\n",
    "for lyr in map.listLayers():\n",
    "    if lyr.name == layer_to_remove:\n",
    "        map.removeLayer(lyr)\n",
    "        break\n",
    "       \n",
    "# Save the project\n",
    "aprx.save()"
   ]
  }
 ],
 "metadata": {
  "kernelspec": {
   "display_name": "ArcGISPro",
   "language": "Python",
   "name": "python3"
  },
  "language_info": {
   "file_extension": ".py",
   "name": "python",
   "version": "3"
  }
 },
 "nbformat": 4,
 "nbformat_minor": 2
}
